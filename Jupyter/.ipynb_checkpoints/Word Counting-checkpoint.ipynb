{
 "cells": [
  {
   "cell_type": "code",
   "execution_count": 21,
   "id": "c00864cb-bbf3-4841-87ac-32b42e8e95d0",
   "metadata": {},
   "outputs": [
    {
     "name": "stdin",
     "output_type": "stream",
     "text": [
      "Arquivo a ser lido:  alice.txt\n"
     ]
    },
    {
     "name": "stdout",
     "output_type": "stream",
     "text": [
      "Dicionario criado com sucesso, em dicionarios/saida_alice.txt\n"
     ]
    }
   ],
   "source": [
    "import string\n",
    "from os.path import exists\n",
    "\n",
    "x = input(\"Arquivo a ser lido: \")\n",
    "file_exists = exists(\"livros/{}\".format(x))\n",
    "if file_exists:\n",
    "    leitor = open(\"livros/{}\".format(x), \"r\")\n",
    "    texto = leitor.read()\n",
    "    #print(texto)\n",
    "    leitor.close()\n",
    "\n",
    "    aspas = \"'\"+'\"'\n",
    "    \n",
    "    dict = {};\n",
    "    for letra in string.punctuation:\n",
    "    \ttexto = texto.replace(letra, \"\")\n",
    "\n",
    "    for letra in \"“”'—-\\n1234567890\\ufeff\" + '\"':\n",
    "    \ttexto = texto.replace(letra, \" \")\n",
    "    \n",
    "    texto = texto.casefold()\n",
    "    array = texto.split(\" \")\n",
    "    \n",
    "    for string in array:\n",
    "    \tif string in dict:\n",
    "    \t\tdict[string] += 1;\n",
    "    \telse:\n",
    "    \t\tdict[string] = 1;\n",
    "    \n",
    "    dict = sorted(dict.items(), key=lambda x:x[1])\n",
    "    #print(dict)\n",
    "    nome_dicionario = \"dicionarios/saida_{}\".format(x)\n",
    "    saida = open(nome_dicionario, \"w\");\n",
    "    for i in dict:\n",
    "    \tsaida.write(\"{}\\n\".format(i));\n",
    "    saida.close()\n",
    "    print(\"Dicionario criado com sucesso, em {}\".format(nome_dicionario))\n",
    "else:\n",
    "    print(\"Arquivo {} não existe\".format(x))"
   ]
  },
  {
   "cell_type": "code",
   "execution_count": null,
   "id": "25021ed8-4788-4de3-8198-cfbca16bf165",
   "metadata": {},
   "outputs": [],
   "source": []
  }
 ],
 "metadata": {
  "kernelspec": {
   "display_name": "Python 3 (ipykernel)",
   "language": "python",
   "name": "python3"
  },
  "language_info": {
   "codemirror_mode": {
    "name": "ipython",
    "version": 3
   },
   "file_extension": ".py",
   "mimetype": "text/x-python",
   "name": "python",
   "nbconvert_exporter": "python",
   "pygments_lexer": "ipython3",
   "version": "3.10.12"
  }
 },
 "nbformat": 4,
 "nbformat_minor": 5
}
